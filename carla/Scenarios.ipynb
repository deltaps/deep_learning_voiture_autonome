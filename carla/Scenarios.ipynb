{
 "cells": [
  {
   "cell_type": "code",
   "execution_count": 2,
   "id": "f2f8d183",
   "metadata": {},
   "outputs": [],
   "source": [
    "import carla\n",
    "\n",
    "# Connect to the simulator\n",
    "client = carla.Client(\"localhost\", 2000)\n",
    "client.set_timeout(10.0)\n",
    "world = client.get_world()\n",
    "\n",
    "\n"
   ]
  },
  {
   "cell_type": "code",
   "execution_count": null,
   "outputs": [],
   "source": [
    "#Changer de carte Carla\n",
    "world = client.load_world(\"Town05\")\n"
   ],
   "metadata": {
    "collapsed": false,
    "pycharm": {
     "is_executing": true
    }
   }
  },
  {
   "cell_type": "code",
   "execution_count": 3,
   "outputs": [
    {
     "name": "stdout",
     "output_type": "stream",
     "text": [
      "Camera location: Location(x=2.585285, y=51.825478, z=19.580383)\n",
      "Camera rotation: Rotation(pitch=4.100900, yaw=87.787064, roll=-0.000000)\n"
     ]
    }
   ],
   "source": [
    "# Obtenir la position de la caméra\n",
    "camera = world.get_spectator()\n",
    "camera_transform = camera.get_transform()\n",
    "camera_location = camera_transform.location\n",
    "camera_rotation = camera_transform.rotation\n",
    "print(f\"Camera location: {camera_location}\")\n",
    "print(f\"Camera rotation: {camera_rotation}\")"
   ],
   "metadata": {
    "collapsed": false
   }
  },
  {
   "cell_type": "code",
   "execution_count": 3,
   "id": "fd2f0211",
   "metadata": {},
   "outputs": [],
   "source": [
    "import time\n",
    "\n",
    "#world = client.load_world(\"Town01\")\n",
    "\n",
    "#Placement de la caméra pour le scénario 1 ( scénario de freinage d'urgence sur un passage piéton )\n",
    "spectator = world.get_spectator()\n",
    "spectator.set_transform(carla.Transform(carla.Location(x=95, y=5, z=10), carla.Rotation(pitch=-30)))\n",
    "def scenario1():\n",
    "    blueprint = world.get_blueprint_library().find(\"vehicle.tesla.model3\")\n",
    "    spawn_point = carla.Transform(carla.Location(x=110, y=15, z=3), carla.Rotation(yaw=270))\n",
    "    vehicle = world.spawn_actor(blueprint, spawn_point)\n",
    "\n",
    "    bp = world.get_blueprint_library().find('walker.pedestrian.0001')\n",
    "    spawn_point = carla.Transform(carla.Location(x=115, y=3, z=3), carla.Rotation(yaw=180.0))\n",
    "    pedestrian = world.spawn_actor(bp, spawn_point)\n",
    "    time.sleep(2)\n",
    "    vehicle.set_autopilot(True)\n",
    "\n",
    "    speed = 2.0\n",
    "    control = carla.WalkerControl()\n",
    "    control.speed = speed\n",
    "    control.direction = carla.Vector3D(x=-1.0, y=0.0, z=0.0)\n",
    "    pedestrian.apply_control(control)\n",
    "\n",
    "    time.sleep(5)\n",
    "    pedestrian.destroy()\n",
    "    vehicle.destroy()\n",
    "\n",
    "scenario1()"
   ]
  },
  {
   "cell_type": "code",
   "execution_count": 8,
   "outputs": [],
   "source": [
    "import time\n",
    "#Map 3\n",
    "\n",
    "world = client.load_world(\"Town03\")\n",
    "\n",
    "#Placement de la caméra pour le scénario 2 ( scénario de dépassement )\n",
    "spectator = world.get_spectator()\n",
    "spectator.set_transform(carla.Transform(carla.Location(x=-54.421078, y=193.432709, z=20.958818), carla.Rotation(pitch=-47)))\n",
    "def scenario2():\n",
    "    blueprint = world.get_blueprint_library().find(\"vehicle.audi.a2\")\n",
    "    spawn_point = carla.Transform(carla.Location(x=-31, y=194, z=3), carla.Rotation(yaw=180))\n",
    "    vehicle1 = world.spawn_actor(blueprint, spawn_point)\n",
    "    blueprint = world.get_blueprint_library().find(\"vehicle.audi.a2\")\n",
    "    spawn_point = carla.Transform(carla.Location(x=-25, y=194, z=3), carla.Rotation(yaw=180))\n",
    "    vehicle2 = world.spawn_actor(blueprint, spawn_point)\n",
    "    blueprint = world.get_blueprint_library().find(\"vehicle.audi.a2\")\n",
    "    spawn_point = carla.Transform(carla.Location(x=-20, y=194, z=3), carla.Rotation(yaw=180))\n",
    "    vehicle3 = world.spawn_actor(blueprint, spawn_point)\n",
    "    blueprint = world.get_blueprint_library().find(\"vehicle.tesla.model3\")\n",
    "    spawn_point = carla.Transform(carla.Location(x=-10, y=194, z=3), carla.Rotation(yaw=180))\n",
    "    vehicle4 = world.spawn_actor(blueprint, spawn_point)\n",
    "    vehicle4.set_autopilot(True)\n",
    "    time.sleep(30)\n",
    "    for v in world.get_actors().filter('*vehicle*'):\n",
    "        v.destroy()\n",
    "\n",
    "scenario2()"
   ],
   "metadata": {
    "collapsed": false
   }
  },
  {
   "cell_type": "code",
   "execution_count": 14,
   "outputs": [],
   "source": [
    "#Map 3\n",
    "world = client.load_world(\"Town03\")\n",
    "\n",
    "#Placement de la caméra pour le scénario 3 ( scénario basique )\n",
    "spectator = world.get_spectator()\n",
    "spectator.set_transform(carla.Transform(carla.Location(x=-31, y=205, z=20.958818), carla.Rotation(pitch=-47)))\n",
    "def scenario3():\n",
    "    blueprint = world.get_blueprint_library().find(\"vehicle.tesla.model3\")\n",
    "    spawn_point = carla.Transform(carla.Location(x=-31, y=205, z=3))\n",
    "    vehicle1 = world.spawn_actor(blueprint, spawn_point)\n",
    "    vehicle1.set_autopilot(True)\n",
    "    time.sleep(30)\n",
    "    vehicle1.destroy()\n",
    "scenario3()"
   ],
   "metadata": {
    "collapsed": false
   }
  },
  {
   "cell_type": "code",
   "execution_count": 12,
   "outputs": [
    {
     "ename": "KeyboardInterrupt",
     "evalue": "",
     "output_type": "error",
     "traceback": [
      "\u001B[1;31m---------------------------------------------------------------------------\u001B[0m",
      "\u001B[1;31mKeyboardInterrupt\u001B[0m                         Traceback (most recent call last)",
      "\u001B[1;32m~\\AppData\\Local\\Temp\\ipykernel_22196\\416255434.py\u001B[0m in \u001B[0;36m<module>\u001B[1;34m\u001B[0m\n\u001B[0;32m     33\u001B[0m                     \u001B[0mtrafficlight\u001B[0m\u001B[1;33m.\u001B[0m\u001B[0mset_state\u001B[0m\u001B[1;33m(\u001B[0m\u001B[0mcarla\u001B[0m\u001B[1;33m.\u001B[0m\u001B[0mTrafficLightState\u001B[0m\u001B[1;33m.\u001B[0m\u001B[0mOrange\u001B[0m\u001B[1;33m)\u001B[0m\u001B[1;33m\u001B[0m\u001B[1;33m\u001B[0m\u001B[0m\n\u001B[0;32m     34\u001B[0m \u001B[1;33m\u001B[0m\u001B[0m\n\u001B[1;32m---> 35\u001B[1;33m \u001B[0mscenario4\u001B[0m\u001B[1;33m(\u001B[0m\u001B[1;34m\"Red\"\u001B[0m\u001B[1;33m)\u001B[0m\u001B[1;33m\u001B[0m\u001B[1;33m\u001B[0m\u001B[0m\n\u001B[0m",
      "\u001B[1;32m~\\AppData\\Local\\Temp\\ipykernel_22196\\416255434.py\u001B[0m in \u001B[0;36mscenario4\u001B[1;34m(couleurFeux)\u001B[0m\n\u001B[0;32m     21\u001B[0m     \u001B[1;32mwhile\u001B[0m \u001B[1;32mTrue\u001B[0m\u001B[1;33m:\u001B[0m\u001B[1;33m\u001B[0m\u001B[1;33m\u001B[0m\u001B[0m\n\u001B[0;32m     22\u001B[0m         \u001B[1;32mfor\u001B[0m \u001B[0mtrafficlight\u001B[0m \u001B[1;32min\u001B[0m \u001B[0mtrafficlights\u001B[0m\u001B[1;33m:\u001B[0m\u001B[1;33m\u001B[0m\u001B[1;33m\u001B[0m\u001B[0m\n\u001B[1;32m---> 23\u001B[1;33m             \u001B[0mlocation\u001B[0m \u001B[1;33m=\u001B[0m \u001B[0mtrafficlight\u001B[0m\u001B[1;33m.\u001B[0m\u001B[0mget_transform\u001B[0m\u001B[1;33m(\u001B[0m\u001B[1;33m)\u001B[0m\u001B[1;33m.\u001B[0m\u001B[0mlocation\u001B[0m\u001B[1;33m\u001B[0m\u001B[1;33m\u001B[0m\u001B[0m\n\u001B[0m\u001B[0;32m     24\u001B[0m             \u001B[0mdistance\u001B[0m \u001B[1;33m=\u001B[0m \u001B[0mvehicle\u001B[0m\u001B[1;33m.\u001B[0m\u001B[0mget_location\u001B[0m\u001B[1;33m(\u001B[0m\u001B[1;33m)\u001B[0m\u001B[1;33m.\u001B[0m\u001B[0mdistance\u001B[0m\u001B[1;33m(\u001B[0m\u001B[0mlocation\u001B[0m\u001B[1;33m)\u001B[0m\u001B[1;33m\u001B[0m\u001B[1;33m\u001B[0m\u001B[0m\n\u001B[0;32m     25\u001B[0m             \u001B[1;32mif\u001B[0m \u001B[0mdistance\u001B[0m \u001B[1;33m<\u001B[0m \u001B[1;36m50\u001B[0m\u001B[1;33m:\u001B[0m\u001B[1;33m\u001B[0m\u001B[1;33m\u001B[0m\u001B[0m\n",
      "\u001B[1;31mKeyboardInterrupt\u001B[0m: "
     ]
    }
   ],
   "source": [
    "#Map 3\n",
    "\n",
    "world = client.load_world(\"Town03\")\n",
    "\n",
    "#Placement de la caméra pour le scénario 4 ( scénario de gestion des feux de signalisation )\n",
    "spectator = world.get_spectator()\n",
    "spectator.set_transform(carla.Transform(carla.Location(x=242, y=117, z=20.958818), carla.Rotation(pitch=-47)))\n",
    "def scenario4(couleurFeux):\n",
    "    #Gérer les feux de signalisation\n",
    "    # Récupérer les feux de signalisation situés autour du véhicule\n",
    "    blueprint = world.get_blueprint_library().find(\"vehicle.tesla.model3\")\n",
    "    spawn_point = carla.Transform(carla.Location(x=242, y=117, z=3), carla.Rotation(yaw=270))\n",
    "    vehicle = world.spawn_actor(blueprint, spawn_point)\n",
    "    vehicle.set_autopilot(True)\n",
    "    trafficlights = world.get_actors().filter('traffic.traffic_light')\n",
    "\n",
    "    # Récupérer l'état actuel des feux de signalisation\n",
    "    for trafficlight in trafficlights:\n",
    "        location = trafficlight.get_transform().location\n",
    "        distance = vehicle.get_location().distance(location)\n",
    "        if distance < 50:\n",
    "            state = trafficlight.get_state()\n",
    "            print(f\"Traffic light {trafficlight.id} is {state}\")\n",
    "\n",
    "    # Changer l'état d'un feu de signalisation\n",
    "    while True: #Boucle infinie donc obliger de faire un control C pour arrêter le programme\n",
    "        for trafficlight in trafficlights:\n",
    "            location = trafficlight.get_transform().location\n",
    "            distance = vehicle.get_location().distance(location)\n",
    "            if distance < 50:\n",
    "                if(couleurFeux==\"Red\"):\n",
    "                    trafficlight.set_state(carla.TrafficLightState.Red)\n",
    "                elif(couleurFeux==\"Orange\"):\n",
    "                    trafficlight.set_state(carla.TrafficLightState.Yellow)\n",
    "                elif(couleurFeux==\"Green\"):\n",
    "                    trafficlight.set_state(carla.TrafficLightState.Green)\n",
    "                else:\n",
    "                    trafficlight.set_state(carla.TrafficLightState.Orange)\n",
    "\n",
    "scenario4(\"Red\")"
   ],
   "metadata": {
    "collapsed": false
   }
  },
  {
   "cell_type": "code",
   "execution_count": 2,
   "outputs": [],
   "source": [
    "import time\n",
    "#Map 5\n",
    "\n",
    "world = client.load_world(\"Town05\")\n",
    "\n",
    "#scénario 5 ( scénario de gestion de parking )\n",
    "def scenario5():\n",
    "    blueprint = world.get_blueprint_library().find(\"vehicle.tesla.model3\")\n",
    "    spawn_point = carla.Transform(carla.Location(x=-13, y=-27, z=3))\n",
    "    vehicle = world.spawn_actor(blueprint, spawn_point)\n",
    "    time.sleep(3)\n",
    "    vehicle.set_autopilot(True)\n",
    "    time.sleep(30)\n",
    "    vehicle.destroy()\n",
    "\n",
    "scenario5()"
   ],
   "metadata": {
    "collapsed": false
   }
  },
  {
   "cell_type": "code",
   "execution_count": 5,
   "outputs": [],
   "source": [
    "#Map 4\n",
    "\n",
    "world = client.load_world(\"Town04\")\n",
    "\n",
    "\n",
    "# Scénario 6 ( scénario de gestion d'une voie d'insertion )\n",
    "def scenario6():\n",
    "    blueprint_Tesla = world.get_blueprint_library().find(\"vehicle.tesla.model3\")\n",
    "    blueprint = world.get_blueprint_library().find(\"vehicle.audi.a2\")\n",
    "    spawn_point = carla.Transform(carla.Location(x=390.362793, y=68.524818, z=3), carla.Rotation(yaw=-75))\n",
    "    vehicle = world.spawn_actor(blueprint_Tesla, spawn_point)\n",
    "    vehicle.set_autopilot(True)\n",
    "    spawn_point2 = carla.Transform(carla.Location(x=362.221283, y=39, z=3), carla.Rotation(yaw=-20.099485))\n",
    "    vehicle2 = world.spawn_actor(blueprint, spawn_point2)\n",
    "    spawn_point3 = carla.Transform(carla.Location(x=353.221283, y=33, z=3), carla.Rotation(yaw=-20.099485))\n",
    "    vehicle3 = world.spawn_actor(blueprint, spawn_point3)\n",
    "    vehicle2.set_autopilot(True)\n",
    "    vehicle3.set_autopilot(True)\n",
    "    time.sleep(50)\n",
    "    for v in world.get_actors().filter('*vehicle*'):\n",
    "        v.destroy()\n",
    "\n",
    "scenario6()"
   ],
   "metadata": {
    "collapsed": false
   }
  },
  {
   "cell_type": "code",
   "execution_count": null,
   "outputs": [],
   "source": [
    "import sys\n",
    "\n",
    "import carla\n",
    "import time\n",
    "\n",
    "# Test de la fonction de génération de waypoints\n",
    "# Ne fonctionne pas car de nombreux waypoints sont générés => trop de calculs\n",
    "\n",
    "bp = world.get_blueprint_library().find(\"vehicle.audi.a2\")\n",
    "\n",
    "\n",
    "start_point = carla.Location(x=110, y=15, z=0)\n",
    "end_point = carla.Location(x=115,y=3,z=0)\n",
    "\n",
    "start_waypoint = world.get_map().get_waypoint(start_point)\n",
    "end_waypoint = world.get_map().get_waypoint(end_point)\n",
    "\n",
    "spawn_point = start_waypoint.transform\n",
    "vehicle = world.spawn_actor(bp, spawn_point)\n",
    "\n",
    "vehicle_controller = carla.VehicleControl()\n",
    "vehicle_controller.max_speed = 10\n",
    "\n",
    "waypoints = []\n",
    "current_waypoint = start_waypoint\n",
    "while current_waypoint != end_waypoint:\n",
    "    next_waypoints = current_waypoint.next(3)\n",
    "    if not next_waypoints :\n",
    "        sys.exit(\"No next waypoint\")\n",
    "    current_waypoint = next_waypoints[0]\n",
    "    waypoints.append(current_waypoint)\n",
    "\n",
    "print(len(waypoints))"
   ],
   "metadata": {
    "collapsed": false,
    "pycharm": {
     "is_executing": true
    }
   }
  }
 ],
 "metadata": {
  "kernelspec": {
   "display_name": "Python 3 (ipykernel)",
   "language": "python",
   "name": "python3"
  },
  "language_info": {
   "codemirror_mode": {
    "name": "ipython",
    "version": 3
   },
   "file_extension": ".py",
   "mimetype": "text/x-python",
   "name": "python",
   "nbconvert_exporter": "python",
   "pygments_lexer": "ipython3",
   "version": "3.7.9"
  }
 },
 "nbformat": 4,
 "nbformat_minor": 5
}
