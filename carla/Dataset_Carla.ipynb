{
 "cells": [
  {
   "cell_type": "code",
   "execution_count": 49,
   "id": "a5a81071",
   "metadata": {},
   "outputs": [],
   "source": [
    "import carla\n",
    "import time\n",
    "import numpy as np\n",
    "import keyboard\n",
    "import cv2\n",
    "import random\n",
    "\n",
    "\n",
    "# Connect to the CARLA simulator\n",
    "client = carla.Client(\"localhost\", 2000)\n",
    "client.set_timeout(10.0)\n",
    "world = client.get_world()\n",
    "\n"
   ]
  },
  {
   "cell_type": "code",
   "execution_count": 47,
   "outputs": [],
   "source": [
    "carla = client.load_world('Town01')"
   ],
   "metadata": {
    "collapsed": false
   }
  },
  {
   "cell_type": "code",
   "execution_count": 52,
   "outputs": [
    {
     "ename": "RuntimeError",
     "evalue": "internal error: unable to find spectator",
     "output_type": "error",
     "traceback": [
      "\u001B[1;31m---------------------------------------------------------------------------\u001B[0m",
      "\u001B[1;31mRuntimeError\u001B[0m                              Traceback (most recent call last)",
      "\u001B[1;32m~\\AppData\\Local\\Temp\\ipykernel_3172\\3509461821.py\u001B[0m in \u001B[0;36m<module>\u001B[1;34m\u001B[0m\n\u001B[1;32m----> 1\u001B[1;33m \u001B[0mcamera\u001B[0m \u001B[1;33m=\u001B[0m \u001B[0mworld\u001B[0m\u001B[1;33m.\u001B[0m\u001B[0mget_spectator\u001B[0m\u001B[1;33m(\u001B[0m\u001B[1;33m)\u001B[0m\u001B[1;33m\u001B[0m\u001B[1;33m\u001B[0m\u001B[0m\n\u001B[0m\u001B[0;32m      2\u001B[0m \u001B[0mcamera_transform\u001B[0m \u001B[1;33m=\u001B[0m \u001B[0mcamera\u001B[0m\u001B[1;33m.\u001B[0m\u001B[0mget_transform\u001B[0m\u001B[1;33m(\u001B[0m\u001B[1;33m)\u001B[0m\u001B[1;33m\u001B[0m\u001B[1;33m\u001B[0m\u001B[0m\n\u001B[0;32m      3\u001B[0m \u001B[0mcamera_location\u001B[0m \u001B[1;33m=\u001B[0m \u001B[0mcamera_transform\u001B[0m\u001B[1;33m.\u001B[0m\u001B[0mlocation\u001B[0m\u001B[1;33m\u001B[0m\u001B[1;33m\u001B[0m\u001B[0m\n\u001B[0;32m      4\u001B[0m \u001B[0mcamera_rotation\u001B[0m \u001B[1;33m=\u001B[0m \u001B[0mcamera_transform\u001B[0m\u001B[1;33m.\u001B[0m\u001B[0mrotation\u001B[0m\u001B[1;33m\u001B[0m\u001B[1;33m\u001B[0m\u001B[0m\n\u001B[0;32m      5\u001B[0m \u001B[0mprint\u001B[0m\u001B[1;33m(\u001B[0m\u001B[1;34mf\"Camera location: {camera_location}\"\u001B[0m\u001B[1;33m)\u001B[0m\u001B[1;33m\u001B[0m\u001B[1;33m\u001B[0m\u001B[0m\n",
      "\u001B[1;31mRuntimeError\u001B[0m: internal error: unable to find spectator"
     ]
    }
   ],
   "source": [
    "# Obtention des coordonnées de la caméra\n",
    "spectator = world.get_spectator()\n",
    "camera = world.get_spectator()\n",
    "camera_transform = camera.get_transform()\n",
    "camera_location = camera_transform.location\n",
    "camera_rotation = camera_transform.rotation\n",
    "print(f\"Camera location: {camera_location}\")\n",
    "print(f\"Camera rotation: {camera_rotation}\")"
   ],
   "metadata": {
    "collapsed": false
   }
  },
  {
   "cell_type": "code",
   "execution_count": 50,
   "outputs": [],
   "source": [
    "# Tentative de faire créer un long trajet pour faire un dataset valide\n",
    "# Concluion : Très long à faire pour le peu d'image obtenu\n",
    "def generation_trajet():\n",
    "    blueprint = world.get_blueprint_library().find(\"vehicle.tesla.model3\")\n",
    "    spawn_point = carla.Transform(carla.Location(x=330.845581, y=195.527863, z=3), carla.Rotation(pitch=0.000000, yaw=180.000000, roll=0.000000))\n",
    "    vehicle = world.spawn_actor(blueprint, spawn_point)\n",
    "\n",
    "    blueprint = world.get_blueprint_library().find(\"vehicle.audi.a2\")\n",
    "    spawn_point = carla.Transform(carla.Location(x=309.853577, y=199.227951, z=3))\n",
    "    vehicle2 = world.spawn_actor(blueprint, spawn_point)\n",
    "\n",
    "    blueprint = random.choice(world.get_blueprint_library().filter('vehicle'))\n",
    "    spawn_point = carla.Transform(carla.Location(x=270.685883, y=198.910965, z=3))\n",
    "    vehicle3 = world.spawn_actor(blueprint, spawn_point)\n",
    "\n",
    "    blueprint = random.choice(world.get_blueprint_library().filter('vehicle'))\n",
    "    spawn_point = carla.Transform(carla.Location(x=245.644699, y=199.270432, z=3))\n",
    "    vehicle4 = world.spawn_actor(blueprint, spawn_point)\n",
    "\n",
    "    blueprint = random.choice(world.get_blueprint_library().filter('vehicle'))\n",
    "    spawn_point = carla.Transform(carla.Location(x=197.804962, y=199.209579, z=3))\n",
    "    vehicle5 = world.spawn_actor(blueprint, spawn_point)\n",
    "\n",
    "    blueprint = random.choice(world.get_blueprint_library().filter('walker'))\n",
    "    spawn_point = carla.Transform(carla.Location(x=306.125458, y=191.453323, z=3))\n",
    "    pieton1 = world.spawn_actor(blueprint, spawn_point)\n",
    "\n",
    "    blueprint = random.choice(world.get_blueprint_library().filter('walker'))\n",
    "    spawn_point = carla.Transform(carla.Location(x=285.016296, y=191.565521, z=3))\n",
    "    pieton2 = world.spawn_actor(blueprint, spawn_point)\n",
    "\n",
    "\n",
    "\n",
    "generation_trajet()"
   ],
   "metadata": {
    "collapsed": false
   }
  },
  {
   "cell_type": "code",
   "execution_count": 51,
   "outputs": [],
   "source": [
    "for v in world.get_actors():\n",
    "    v.destroy()"
   ],
   "metadata": {
    "collapsed": false
   }
  },
  {
   "cell_type": "code",
   "execution_count": 2,
   "id": "0c29a8da",
   "metadata": {},
   "outputs": [],
   "source": [
    "# Fonction créer qui permet de changer de météo afin d'améliorer notre modèle de réseau de neurones dans le futur\n",
    "weatherList = np.array([carla.WeatherParameters.WetCloudySunset,carla.WeatherParameters.CloudyNoon,carla.WeatherParameters.WetNoon,carla.WeatherParameters.WetCloudyNoon,carla.WeatherParameters.MidRainyNoon,carla.WeatherParameters.HardRainNoon,carla.WeatherParameters.SoftRainNoon,carla.WeatherParameters.ClearSunset,carla.WeatherParameters.CloudySunset,carla.WeatherParameters.WetSunset,carla.WeatherParameters.MidRainSunset,carla.WeatherParameters.HardRainSunset,carla.WeatherParameters.SoftRainSunset])\n",
    "np.random.shuffle(weatherList)\n",
    "world.set_weather(weatherList[0])"
   ]
  },
  {
   "cell_type": "code",
   "execution_count": 3,
   "id": "ff384592",
   "metadata": {},
   "outputs": [],
   "source": [
    "weather_parameters = {\n",
    "    'ClearNoon': carla.WeatherParameters.ClearNoon,\n",
    "    'WetCloudySunset': carla.WeatherParameters.WetCloudySunset,\n",
    "    'SoftRainNoon': carla.WeatherParameters.SoftRainNoon,\n",
    "    'MidRainSunset': carla.WeatherParameters.MidRainSunset,\n",
    "    'HardRainSunset': carla.WeatherParameters.HardRainSunset,\n",
    "    'ClearSunset': carla.WeatherParameters.ClearSunset,\n",
    "    'WetSunset': carla.WeatherParameters.WetSunset,\n",
    "    'SoftRainSunset': carla.WeatherParameters.SoftRainSunset\n",
    "}\n",
    "random_key = random.choice(list(weather_parameters.keys()))\n",
    "random_value = weather_parameters[random_key]\n",
    "world.set_weather(random_value)"
   ]
  },
  {
   "cell_type": "code",
   "execution_count": 2,
   "id": "94260e0d",
   "metadata": {},
   "outputs": [],
   "source": [
    "# Charger le véhicule principal\n",
    "def charger_vehicle():\n",
    "    bp_lib = world.get_blueprint_library()\n",
    "    spawn_points = world.get_map().get_spawn_points()\n",
    "    vehicule_bp = bp_lib.find('vehicle.lincoln.mkz_2020')\n",
    "    vehicle =world.try_spawn_actor(vehicule_bp,random.choice(spawn_points))\n",
    "    return vehicle"
   ]
  },
  {
   "cell_type": "code",
   "execution_count": 3,
   "id": "680a1e1a",
   "metadata": {},
   "outputs": [],
   "source": [
    "# Faire spawner plusieurs voiture dans le monde \n",
    "def spanwnVehicle(n):\n",
    "    for i in range (n):\n",
    "        vehicle_bp = random.choice(bp_lib.filter('vehicle'))\n",
    "        npc = world.try_spawn_actor(vehicle_bp,random.choice(spawn_points))\n"
   ]
  },
  {
   "cell_type": "code",
   "execution_count": null,
   "outputs": [],
   "source": [
    "# Faire supprimer tous les véhicules du monde\n",
    "def destruction():\n",
    "    for v in world.get_actors().filter('*vehicle*'):\n",
    "        v.destroy()"
   ],
   "metadata": {
    "collapsed": false
   }
  },
  {
   "cell_type": "code",
   "execution_count": 4,
   "id": "33170479",
   "metadata": {},
   "outputs": [],
   "source": [
    "def isCirculation(value):\n",
    "    for v in world.get_actors().filter('*vehicle*'):\n",
    "        v.set_autopilot(value)\n"
   ]
  },
  {
   "cell_type": "code",
   "execution_count": 5,
   "id": "bae6d847",
   "metadata": {},
   "outputs": [],
   "source": [
    "def attach_cam(vehicle):\n",
    "    # Génération d'une caméra RGB\n",
    "    camera = world.get_blueprint_library().find(\"sensor.camera.rgb\")\n",
    "    camera.set_attribute(\"image_size_x\", str(800))\n",
    "    camera.set_attribute(\"image_size_y\", str(600))\n",
    "\n",
    "    # Génération d'une caméra sémantique\n",
    "    cameraS = world.get_blueprint_library().find(\"sensor.camera.semantic_segmentation\")\n",
    "    cameraS.set_attribute(\"image_size_x\", str(800))\n",
    "    cameraS.set_attribute(\"image_size_y\", str(600))\n",
    "\n",
    "    # Attacher les caméras au véhicule\n",
    "    spawn_point = carla.Transform(carla.Location(z=2))\n",
    "    sensor = world.spawn_actor(camera, spawn_point, attach_to=vehicle)\n",
    "    sensorS = world.spawn_actor(cameraS, spawn_point, attach_to=vehicle)\n",
    "    return sensor,sensorS"
   ]
  },
  {
   "cell_type": "code",
   "execution_count": 9,
   "id": "47110331",
   "metadata": {},
   "outputs": [],
   "source": [
    "# Fonction qui permet de récupérer les images des caméras\n",
    "def process_img(image,typeCam,weather):\n",
    "    time.sleep(2)\n",
    "    # Si on souhaite avoir des images de segmentation selon la palette de couleurs de CityScapes ( évite d'avoir une image noir car l'image contient les numéros des classes )\n",
    "   # if(typeCam == \"seg\"):\n",
    "   #      image.convert(carla.ColorConverter.CityScapesPalette)\n",
    "    # Convert the image to a numpy array\n",
    "    np_image = np.array(image.raw_data)\n",
    "    np_image = np_image.reshape((image.height, image.width, 4))\n",
    "\n",
    "    # Compteurs globaux pour les images RGB et Segmentation\n",
    "    global counterRGB\n",
    "    counterRGB += 1\n",
    "    \n",
    "    global counterSEG\n",
    "    counterSEG += 1\n",
    "\n",
    "    #Enregistrement des images RGB et Segmentation\n",
    "    if(typeCam == \"rgb\" ):\n",
    "        filename = \"dataset/\"+weather+\"/rgb/image{}.png\".format(counterRGB)\n",
    "        filenameAll = \"dataset/All_Image/rgb/image{}.png\".format(counterRGB)\n",
    "        cv2.imwrite(filename, np_image)\n",
    "        cv2.imwrite(filenameAll,np_image)\n",
    "    elif(typeCam == \"seg\"):\n",
    "        filename = \"dataset/\"+weather+\"/segmentation/image{}.png\".format(counterSEG)\n",
    "        filenameAll = \"dataset/All_Image/segmentation/image{}.png\".format(counterSEG)\n",
    "        cv2.imwrite(filename, np_image)\n",
    "        cv2.imwrite(filenameAll,np_image)\n"
   ]
  },
  {
   "cell_type": "code",
   "execution_count": 10,
   "id": "f268b919",
   "metadata": {
    "scrolled": true
   },
   "outputs": [],
   "source": [
    "def dataset():\n",
    "    weather_parameters = {\n",
    "    'ClearNoon': carla.WeatherParameters.ClearNoon,\n",
    "    'WetCloudySunset': carla.WeatherParameters.WetCloudySunset,\n",
    "    'SoftRainNoon': carla.WeatherParameters.SoftRainNoon,\n",
    "    'MidRainSunset': carla.WeatherParameters.MidRainSunset,\n",
    "    'HardRainSunset': carla.WeatherParameters.HardRainSunset,\n",
    "    'ClearSunset': carla.WeatherParameters.ClearSunset,\n",
    "    'WetSunset': carla.WeatherParameters.WetSunset,\n",
    "    'SoftRainSunset': carla.WeatherParameters.SoftRainSunset\n",
    "    }\n",
    "    list_weather = list(weather_parameters.keys())\n",
    "    for weather in list_weather :\n",
    "        params = weather_parameters[weather]\n",
    "        world.set_weather(params)\n",
    "        vehicle = charger_vehicle()\n",
    "        spanwnVehicle(15)\n",
    "        isCirculation(True)\n",
    "        sensor,sensorS = attach_cam(vehicle)\n",
    "\n",
    "        # Enregistrement des images\n",
    "        sensor.listen(lambda im:process_img(im,\"rgb\",weather))\n",
    "        sensorS.listen(lambda im:process_img(im,\"seg\",weather))\n",
    "\n",
    "        # Lance la simulation pendant 60 secondes\n",
    "        time.sleep(60)\n",
    "        # Arrête la simulation, arrête l'enregistrement des images et détruit les véhicules\n",
    "        sensor.stop()\n",
    "        sensorS.stop()\n",
    "\n",
    "        destruction()\n",
    "\n",
    "\n",
    "bp_lib = world.get_blueprint_library()\n",
    "spawn_points = world.get_map().get_spawn_points()\n",
    "# Initialisation des compteurs\n",
    "counterRGB = 0\n",
    "counterSEG = 0\n",
    "\n",
    "dataset()\n"
   ]
  }
 ],
 "metadata": {
  "kernelspec": {
   "display_name": "Python 3 (ipykernel)",
   "language": "python",
   "name": "python3"
  },
  "language_info": {
   "codemirror_mode": {
    "name": "ipython",
    "version": 3
   },
   "file_extension": ".py",
   "mimetype": "text/x-python",
   "name": "python",
   "nbconvert_exporter": "python",
   "pygments_lexer": "ipython3",
   "version": "3.7.9"
  }
 },
 "nbformat": 4,
 "nbformat_minor": 5
}
